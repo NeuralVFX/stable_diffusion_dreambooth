{
 "cells": [
  {
   "cell_type": "code",
   "execution_count": 2,
   "id": "523f1a34",
   "metadata": {},
   "outputs": [],
   "source": [
    "\n",
    "\n",
    "#@markdown Add here the URLs to the images of the concept you are adding. 3-5 should be fine\n",
    "urls = [\n",
    "      \"https://phantom-marca.unidadeditorial.es/5d6441562779d5a7296eae5755d85b4e/resize/828/f/webp/assets/multimedia/imagenes/2023/03/14/16788134606283.jpg\",\n",
    "      \"https://www.svg.com/img/gallery/the-shady-side-of-mrbeast/l-intro-1655127839.jpg\",\n",
    "      \"https://imgb.srgcdn.com/36502321-1191-4189-9879-9d29b23045d7.jpg\",\n",
    "      \"https://media.cnn.com/api/v1/images/stellar/prod/230414115239-mrbeast-file.jpg?c=16x9&q=h_720,w_1280,c_fill/f_webp\",\n",
    "      ## You can add additional images here\n",
    "]"
   ]
  },
  {
   "cell_type": "code",
   "execution_count": 6,
   "id": "80155825",
   "metadata": {},
   "outputs": [
    {
     "data": {
      "text/plain": [
       "[None, None, None, None]"
      ]
     },
     "execution_count": 6,
     "metadata": {},
     "output_type": "execute_result"
    }
   ],
   "source": [
    "save_path = './booth_dataset'\n",
    "\n",
    "from PIL import Image\n",
    "import PIL\n",
    "import requests\n",
    "import glob\n",
    "from io import BytesIO\n",
    "import os\n",
    "\n",
    "\n",
    "def crop_to_square(pil_img):\n",
    "    width, height = pil_img.size\n",
    "    new_size = min(width, height)\n",
    "    \n",
    "    left = (width - new_size) / 2\n",
    "    top = (height - new_size) / 2\n",
    "    right = (width + new_size) / 2\n",
    "    bottom = (height + new_size) / 2\n",
    "\n",
    "    return pil_img.crop((left, top, right, bottom))\n",
    "\n",
    "\n",
    "def download_image(url):\n",
    "  try:\n",
    "    response = requests.get(url)\n",
    "  except:\n",
    "    return None\n",
    "  image = Image.open(BytesIO(response.content)).convert(\"RGB\")\n",
    "  return crop_to_square(image)\n",
    "\n",
    "images = list(filter(None,[download_image(url) for url in urls]))\n",
    "if not os.path.exists(save_path):\n",
    "  os.mkdir(save_path)\n",
    "[image.save(f\"{save_path}/{i}.jpeg\") for i, image in enumerate(images)]"
   ]
  },
  {
   "cell_type": "code",
   "execution_count": null,
   "id": "cbb507c6",
   "metadata": {},
   "outputs": [],
   "source": []
  }
 ],
 "metadata": {
  "kernelspec": {
   "display_name": "Python 3",
   "language": "python",
   "name": "python3"
  },
  "language_info": {
   "codemirror_mode": {
    "name": "ipython",
    "version": 3
   },
   "file_extension": ".py",
   "mimetype": "text/x-python",
   "name": "python",
   "nbconvert_exporter": "python",
   "pygments_lexer": "ipython3",
   "version": "3.7.16"
  }
 },
 "nbformat": 4,
 "nbformat_minor": 5
}
